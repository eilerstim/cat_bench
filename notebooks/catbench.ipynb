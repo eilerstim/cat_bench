{
 "cells": [
  {
   "cell_type": "code",
   "execution_count": null,
   "id": "d2342e18",
   "metadata": {},
   "outputs": [],
   "source": [
    "from pathlib import Path\n",
    "import pandas as pd\n",
    "\n",
    "model_name = \"google/gemma-3-4b-it\"\n",
    "prompt = \"How many cats are in this image?\"\n",
    "\n",
    "data_file = Path(\"../data\") / \"cats.csv\"\n",
    "df = pd.read_csv(data_file)\n",
    "df.head()"
   ]
  },
  {
   "cell_type": "markdown",
   "id": "5a608ef6",
   "metadata": {},
   "source": [
    "## Initialization"
   ]
  },
  {
   "cell_type": "code",
   "execution_count": null,
   "id": "3c715a80",
   "metadata": {},
   "outputs": [],
   "source": [
    "from gemma import load\n",
    "\n",
    "model, processor, device = load(model_name)"
   ]
  },
  {
   "cell_type": "markdown",
   "id": "d03d2e29",
   "metadata": {},
   "source": [
    "## Helper Functions"
   ]
  },
  {
   "cell_type": "code",
   "execution_count": null,
   "id": "138ff215",
   "metadata": {},
   "outputs": [],
   "source": [
    "from vl_saliency import SaliencyTrace\n",
    "from vl_saliency.viz import overlay\n",
    "\n",
    "from gemma import process_inputs\n",
    "\n",
    "def visualize_saliency(model, processor, url, count):\n",
    "    inputs = process_inputs(processor, url, prompt + \" \" + counts, device)\n",
    "    pass\n",
    "    "
   ]
  }
 ],
 "metadata": {
  "language_info": {
   "name": "python"
  }
 },
 "nbformat": 4,
 "nbformat_minor": 5
}
